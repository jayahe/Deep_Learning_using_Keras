{
  "nbformat": 4,
  "nbformat_minor": 0,
  "metadata": {
    "colab": {
      "name": "Classification_model_using_Deep_Learning_keras.ipynb",
      "provenance": [],
      "collapsed_sections": [],
      "authorship_tag": "ABX9TyMTik9H2UENx3OPiHKfi2U8",
      "include_colab_link": true
    },
    "kernelspec": {
      "name": "python3",
      "display_name": "Python 3"
    }
  },
  "cells": [
    {
      "cell_type": "markdown",
      "metadata": {
        "id": "view-in-github",
        "colab_type": "text"
      },
      "source": [
        "<a href=\"https://colab.research.google.com/github/jayahe/Deep_Learning_using_Keras/blob/master/Classification_model_using_Deep_Learning_keras.ipynb\" target=\"_parent\"><img src=\"https://colab.research.google.com/assets/colab-badge.svg\" alt=\"Open In Colab\"/></a>"
      ]
    },
    {
      "cell_type": "markdown",
      "metadata": {
        "id": "2TVN0mDSpv7x",
        "colab_type": "text"
      },
      "source": [
        "### Building a model on fashion mnist data"
      ]
    },
    {
      "cell_type": "code",
      "metadata": {
        "id": "u441jzrmp-9D",
        "colab_type": "code",
        "outputId": "2d7819e4-9d1d-4a58-ef13-e898951b6a58",
        "colab": {
          "base_uri": "https://localhost:8080/",
          "height": 153
        }
      },
      "source": [
        "from tensorflow.keras.datasets import fashion_mnist\n",
        "(x_train,y_train),(x_test,y_test) = fashion_mnist.load_data()"
      ],
      "execution_count": 0,
      "outputs": [
        {
          "output_type": "stream",
          "text": [
            "Downloading data from https://storage.googleapis.com/tensorflow/tf-keras-datasets/train-labels-idx1-ubyte.gz\n",
            "32768/29515 [=================================] - 0s 0us/step\n",
            "Downloading data from https://storage.googleapis.com/tensorflow/tf-keras-datasets/train-images-idx3-ubyte.gz\n",
            "26427392/26421880 [==============================] - 0s 0us/step\n",
            "Downloading data from https://storage.googleapis.com/tensorflow/tf-keras-datasets/t10k-labels-idx1-ubyte.gz\n",
            "8192/5148 [===============================================] - 0s 0us/step\n",
            "Downloading data from https://storage.googleapis.com/tensorflow/tf-keras-datasets/t10k-images-idx3-ubyte.gz\n",
            "4423680/4422102 [==============================] - 0s 0us/step\n"
          ],
          "name": "stdout"
        }
      ]
    },
    {
      "cell_type": "code",
      "metadata": {
        "id": "T2FzAqg2qMJX",
        "colab_type": "code",
        "colab": {}
      },
      "source": [
        "labelmap=['t_shirt/top','trouser','pullover','dress','coat','sandal','shirt','sneaker','bag','ankle_boot']"
      ],
      "execution_count": 0,
      "outputs": []
    },
    {
      "cell_type": "code",
      "metadata": {
        "id": "MKOkfElIqoVl",
        "colab_type": "code",
        "outputId": "339474de-b9ff-4a6c-ab5d-9a99f8a744b2",
        "colab": {
          "base_uri": "https://localhost:8080/",
          "height": 51
        }
      },
      "source": [
        "print(x_train.shape)\n",
        "print(len(labelmap))"
      ],
      "execution_count": 0,
      "outputs": [
        {
          "output_type": "stream",
          "text": [
            "(60000, 28, 28)\n",
            "10\n"
          ],
          "name": "stdout"
        }
      ]
    },
    {
      "cell_type": "code",
      "metadata": {
        "id": "zEJR98Z7qqpI",
        "colab_type": "code",
        "colab": {}
      },
      "source": [
        "from tensorflow.keras.utils import to_categorical\n",
        "import matplotlib.pyplot as plt\n",
        "import numpy as np\n",
        "%matplotlib inline"
      ],
      "execution_count": 0,
      "outputs": []
    },
    {
      "cell_type": "code",
      "metadata": {
        "id": "m6b55D0GshW3",
        "colab_type": "code",
        "outputId": "6a8470d2-3c3a-4826-c238-39fe3d4d5c40",
        "colab": {
          "base_uri": "https://localhost:8080/",
          "height": 386
        }
      },
      "source": [
        "print('the shape of training data: ',x_train.shape)\n",
        "print('the shape of test data: ',x_test.shape)\n",
        "\n",
        "classes = np.unique(y_train)\n",
        "n_classes = len(classes)\n",
        "\n",
        "print('total no.of outputs: ',n_classes)\n",
        "print('output classes: ',classes)\n",
        "\n",
        "plt.figure(figsize=[10,5])\n",
        "\n",
        "## Display the first image in training data\n",
        "plt.subplot(121)\n",
        "plt.imshow(x_train[0,:,:],cmap='gray')\n",
        "plt.title('ground truth {}'.format(y_train[0]))\n",
        "\n",
        "## Display the first image in testing data\n",
        "plt.subplot(122)\n",
        "plt.imshow(x_test[0,:,:],cmap='gray')\n",
        "plt.title('ground truth {}'.format(y_test[0]))\n",
        "\n",
        "plt.show()\n",
        "\n",
        "plt.show()"
      ],
      "execution_count": 0,
      "outputs": [
        {
          "output_type": "stream",
          "text": [
            "the shape of training data:  (60000, 28, 28)\n",
            "the shape of test data:  (10000, 28, 28)\n",
            "total no.of outputs:  10\n",
            "output classes:  [0 1 2 3 4 5 6 7 8 9]\n"
          ],
          "name": "stdout"
        },
        {
          "output_type": "display_data",
          "data": {
            "image/png": "[encoded data removed]",
            "text/plain": [
              "<Figure size 720x360 with 2 Axes>"
            ]
          },
          "metadata": {
            "tags": [],
            "needs_background": "light"
          }
        }
      ]
    },
    {
      "cell_type": "markdown",
      "metadata": {
        "id": "fnHQSkNVtP57",
        "colab_type": "text"
      },
      "source": [
        "#### Preprocess data"
      ]
    },
    {
      "cell_type": "code",
      "metadata": {
        "id": "KTu7PVWE4bY_",
        "colab_type": "code",
        "outputId": "5ea7d434-079e-4d93-cbf7-985094316217",
        "colab": {
          "base_uri": "https://localhost:8080/",
          "height": 34
        }
      },
      "source": [
        "# change from matrix to array of 28x28 to array of dimension 784\n",
        "print(x_train.shape)\n",
        "dimdata = np.prod(x_train.shape[1:])\n",
        "train_data = x_train.reshape(x_train.shape[0],dimdata)\n",
        "test_data = x_test.reshape(x_test.shape[0],dimdata)"
      ],
      "execution_count": 0,
      "outputs": [
        {
          "output_type": "stream",
          "text": [
            "(60000, 28, 28)\n"
          ],
          "name": "stdout"
        }
      ]
    },
    {
      "cell_type": "code",
      "metadata": {
        "id": "yPDJ3_UB4pEp",
        "colab_type": "code",
        "outputId": "44978569-6c6b-4866-bd02-ea0d19284e03",
        "colab": {
          "base_uri": "https://localhost:8080/",
          "height": 34
        }
      },
      "source": [
        "print('type of original data: ',train_data.dtype)\n",
        "# convert data into float\n",
        "train_data = train_data.astype('float32')\n",
        "test_data = test_data.astype('float32')\n",
        "\n",
        "# scale the data to lie between 0 and 1\n",
        "train_data /= 255\n",
        "test_data /= 255"
      ],
      "execution_count": 0,
      "outputs": [
        {
          "output_type": "stream",
          "text": [
            "type of original data:  uint8\n"
          ],
          "name": "stdout"
        }
      ]
    },
    {
      "cell_type": "code",
      "metadata": {
        "id": "0SvoZFGG4p51",
        "colab_type": "code",
        "outputId": "20973c4f-9bf3-4e99-be0e-50f42eaa992a",
        "colab": {
          "base_uri": "https://localhost:8080/",
          "height": 51
        }
      },
      "source": [
        "## Change the labels from integer to categoricl - one hot encoding\n",
        "train_labels_one_hot_encod = to_categorical(y_train)\n",
        "test_labels_one_hot_encod = to_categorical(y_test)\n",
        "\n",
        "## display the original labels and one hot encoded labels\n",
        "print('The original lables is: ',y_train[0])\n",
        "print('The one hot ecoded label is: ',train_labels_one_hot_encod[0])"
      ],
      "execution_count": 0,
      "outputs": [
        {
          "output_type": "stream",
          "text": [
            "The original lables is:  9\n",
            "The one hot ecoded label is:  [0. 0. 0. 0. 0. 0. 0. 0. 0. 1.]\n"
          ],
          "name": "stdout"
        }
      ]
    },
    {
      "cell_type": "markdown",
      "metadata": {
        "id": "UlJ_S56E7Eon",
        "colab_type": "text"
      },
      "source": [
        "## Training"
      ]
    },
    {
      "cell_type": "code",
      "metadata": {
        "id": "cxP6i2Ii7nIR",
        "colab_type": "code",
        "colab": {}
      },
      "source": [
        "from tensorflow.keras.models import Sequential\n",
        "from tensorflow.keras.layers import Dense\n",
        "\n",
        "model = Sequential()\n",
        "model.add(Dense(512, activation='relu',input_shape = (dimdata,)))\n",
        "model.add(Dense(512, activation='relu'))\n",
        "model.add(Dense(n_classes, activation='softmax'))\n"
      ],
      "execution_count": 0,
      "outputs": []
    },
    {
      "cell_type": "code",
      "metadata": {
        "id": "MBjVuBeD8UNk",
        "colab_type": "code",
        "colab": {}
      },
      "source": [
        "model.compile(optimizer='rmsprop',loss='categorical_crossentropy',metrics=['accuracy'])"
      ],
      "execution_count": 0,
      "outputs": []
    },
    {
      "cell_type": "code",
      "metadata": {
        "id": "Y9KLtkbo8r8z",
        "colab_type": "code",
        "outputId": "a59320bf-255e-46c5-d177-2162e649ed9d",
        "colab": {
          "base_uri": "https://localhost:8080/",
          "height": 255
        }
      },
      "source": [
        "model.summary()"
      ],
      "execution_count": 0,
      "outputs": [
        {
          "output_type": "stream",
          "text": [
            "Model: \"sequential_1\"\n",
            "_________________________________________________________________\n",
            "Layer (type)                 Output Shape              Param #   \n",
            "=================================================================\n",
            "dense_2 (Dense)              (None, 512)               401920    \n",
            "_________________________________________________________________\n",
            "dense_3 (Dense)              (None, 512)               262656    \n",
            "_________________________________________________________________\n",
            "dense_4 (Dense)              (None, 10)                5130      \n",
            "=================================================================\n",
            "Total params: 669,706\n",
            "Trainable params: 669,706\n",
            "Non-trainable params: 0\n",
            "_________________________________________________________________\n"
          ],
          "name": "stdout"
        }
      ]
    },
    {
      "cell_type": "markdown",
      "metadata": {
        "id": "fv9IoFy_8uIj",
        "colab_type": "text"
      },
      "source": [
        "### Training the data"
      ]
    },
    {
      "cell_type": "code",
      "metadata": {
        "id": "7nRPhOlc-bgx",
        "colab_type": "code",
        "colab": {}
      },
      "source": [
        "history = model.fit(train_data, train_labels_one_hot_encod, batch_size=256, epochs=20, verbose=0,\n",
        "                    validation_data = (test_data, test_labels_one_hot_encod))"
      ],
      "execution_count": 0,
      "outputs": []
    },
    {
      "cell_type": "markdown",
      "metadata": {
        "id": "Fvmltehn_rvV",
        "colab_type": "text"
      },
      "source": [
        "### Evaluate the trained model"
      ]
    },
    {
      "cell_type": "code",
      "metadata": {
        "id": "WfcDcwdE-x4F",
        "colab_type": "code",
        "outputId": "f858f4a7-d0e3-4a60-f8ae-898854706efb",
        "colab": {
          "base_uri": "https://localhost:8080/",
          "height": 51
        }
      },
      "source": [
        "test_loss, test_acc = model.evaluate(test_data, test_labels_one_hot_encod)\n",
        "print('Evaluation result on test data Loss: {} and accuracy: {}'.format(test_loss, test_acc))"
      ],
      "execution_count": 0,
      "outputs": [
        {
          "output_type": "stream",
          "text": [
            "313/313 [==============================] - 1s 2ms/step - loss: 0.4878 - accuracy: 0.8766\n",
            "Evaluation result on test data Loss: 0.4877869784832001 and accuracy: 0.8766000270843506\n"
          ],
          "name": "stdout"
        }
      ]
    },
    {
      "cell_type": "markdown",
      "metadata": {
        "id": "0PFxfuDq_fm4",
        "colab_type": "text"
      },
      "source": [
        "### Check for overfitting"
      ]
    },
    {
      "cell_type": "code",
      "metadata": {
        "id": "PBig_qry_2Js",
        "colab_type": "code",
        "outputId": "7394579b-da51-48a9-d62c-62af2b037cfd",
        "colab": {
          "base_uri": "https://localhost:8080/",
          "height": 805
        }
      },
      "source": [
        "## Plot the loss curves\n",
        "plt.figure(figsize=[8,6])\n",
        "plt.plot(history.history['loss'],'r',linewidth=3.0)\n",
        "plt.plot(history.history['val_loss'],'b',linewidth=3.0)\n",
        "plt.legend(['Training_loss', 'Validation_loss'],fontsize=14)\n",
        "plt.xlabel('Epochs',fontsize=16)\n",
        "plt.ylabel('Loss',fontsize=16)\n",
        "plt.title('Loss curves',fontsize = 16)\n",
        "\n",
        "## Plot the accuracy curves\n",
        "plt.figure(figsize=[8,6])\n",
        "plt.plot(history.history['accuracy'],'r',linewidth=3.0)\n",
        "plt.plot(history.history['val_accuracy'],'b',linewidth=3.0)\n",
        "plt.legend(['accuracy','val_accuracy'],fontsize=14)\n",
        "plt.xlabel('Epochs',fontsize=16)\n",
        "plt.ylabel('Accuracy',fontsize=16)\n",
        "plt.title('Accuracy curves',fontsize=16)\n",
        "\n",
        "plt.show()\n"
      ],
      "execution_count": 0,
      "outputs": [
        {
          "output_type": "display_data",
          "data": {
            "image/png": "[encoded data removed]",
            "text/plain": [
              "<Figure size 576x432 with 1 Axes>"
            ]
          },
          "metadata": {
            "tags": [],
            "needs_background": "light"
          }
        },
        {
          "output_type": "display_data",
          "data": {
            "image/png": "[encoded data removed]",
            "text/plain": [
              "<Figure size 576x432 with 1 Axes>"
            ]
          },
          "metadata": {
            "tags": [],
            "needs_background": "light"
          }
        }
      ]
    },
    {
      "cell_type": "markdown",
      "metadata": {
        "id": "ARSMIFz1CMEF",
        "colab_type": "text"
      },
      "source": [
        "From the above two graphs we can notice that the model is clearly overfitting, hence add regularised parameter to avoid overfitting"
      ]
    },
    {
      "cell_type": "markdown",
      "metadata": {
        "id": "w7C4yHC9DQTf",
        "colab_type": "text"
      },
      "source": [
        "### Add Regularization and rerun the entire model once again"
      ]
    },
    {
      "cell_type": "code",
      "metadata": {
        "id": "pnuc8LvMDXh7",
        "colab_type": "code",
        "colab": {}
      },
      "source": [
        "from tensorflow.keras.layers import Dropout\n",
        "\n",
        "model_reg = Sequential()\n",
        "model_reg.add(Dense(512, activation='relu',input_shape = (dimdata,)))\n",
        "model_reg.add(Dropout(0.5))\n",
        "model_reg.add(Dense(512, activation='relu'))\n",
        "model_reg.add(Dropout(0.5))\n",
        "model_reg.add(Dense(n_classes, activation='softmax'))\n",
        "\n",
        "model_reg.compile(optimizer='rmsprop',loss='categorical_crossentropy',metrics=['accuracy'])"
      ],
      "execution_count": 0,
      "outputs": []
    },
    {
      "cell_type": "code",
      "metadata": {
        "id": "Pp4rplnCD4Vd",
        "colab_type": "code",
        "outputId": "db12e4c8-6f57-4ea3-a7b5-400907e46f81",
        "colab": {
          "base_uri": "https://localhost:8080/",
          "height": 323
        }
      },
      "source": [
        "model_reg.summary()"
      ],
      "execution_count": 0,
      "outputs": [
        {
          "output_type": "stream",
          "text": [
            "Model: \"sequential_2\"\n",
            "_________________________________________________________________\n",
            "Layer (type)                 Output Shape              Param #   \n",
            "=================================================================\n",
            "dense_5 (Dense)              (None, 512)               401920    \n",
            "_________________________________________________________________\n",
            "dropout (Dropout)            (None, 512)               0         \n",
            "_________________________________________________________________\n",
            "dense_6 (Dense)              (None, 512)               262656    \n",
            "_________________________________________________________________\n",
            "dropout_1 (Dropout)          (None, 512)               0         \n",
            "_________________________________________________________________\n",
            "dense_7 (Dense)              (None, 10)                5130      \n",
            "=================================================================\n",
            "Total params: 669,706\n",
            "Trainable params: 669,706\n",
            "Non-trainable params: 0\n",
            "_________________________________________________________________\n"
          ],
          "name": "stdout"
        }
      ]
    },
    {
      "cell_type": "code",
      "metadata": {
        "id": "PmTM5GKLD6jk",
        "colab_type": "code",
        "outputId": "949abb5e-f175-4a96-8d3d-7036abb0947b",
        "colab": {
          "base_uri": "https://localhost:8080/",
          "height": 697
        }
      },
      "source": [
        "history_reg = model_reg.fit(train_data, train_labels_one_hot_encod, batch_size=256, epochs=20, verbose=1,\n",
        "                    validation_data = (test_data, test_labels_one_hot_encod),learni)"
      ],
      "execution_count": 0,
      "outputs": [
        {
          "output_type": "stream",
          "text": [
            "Epoch 1/20\n",
            "235/235 [==============================] - 6s 28ms/step - loss: 0.6773 - accuracy: 0.7544 - val_loss: 0.4671 - val_accuracy: 0.8293\n",
            "Epoch 2/20\n",
            "235/235 [==============================] - 6s 27ms/step - loss: 0.4703 - accuracy: 0.8289 - val_loss: 0.4436 - val_accuracy: 0.8383\n",
            "Epoch 3/20\n",
            "235/235 [==============================] - 6s 28ms/step - loss: 0.4264 - accuracy: 0.8462 - val_loss: 0.4140 - val_accuracy: 0.8467\n",
            "Epoch 4/20\n",
            "235/235 [==============================] - 6s 27ms/step - loss: 0.4005 - accuracy: 0.8561 - val_loss: 0.3929 - val_accuracy: 0.8561\n",
            "Epoch 5/20\n",
            "235/235 [==============================] - 6s 27ms/step - loss: 0.3877 - accuracy: 0.8603 - val_loss: 0.3784 - val_accuracy: 0.8630\n",
            "Epoch 6/20\n",
            "235/235 [==============================] - 7s 28ms/step - loss: 0.3749 - accuracy: 0.8644 - val_loss: 0.3804 - val_accuracy: 0.8623\n",
            "Epoch 7/20\n",
            "235/235 [==============================] - 6s 27ms/step - loss: 0.3645 - accuracy: 0.8685 - val_loss: 0.3803 - val_accuracy: 0.8648\n",
            "Epoch 8/20\n",
            "235/235 [==============================] - 6s 28ms/step - loss: 0.3613 - accuracy: 0.8720 - val_loss: 0.3823 - val_accuracy: 0.8682\n",
            "Epoch 9/20\n",
            "235/235 [==============================] - 6s 27ms/step - loss: 0.3532 - accuracy: 0.8720 - val_loss: 0.3769 - val_accuracy: 0.8680\n",
            "Epoch 10/20\n",
            "235/235 [==============================] - 6s 28ms/step - loss: 0.3495 - accuracy: 0.8753 - val_loss: 0.3569 - val_accuracy: 0.8732\n",
            "Epoch 11/20\n",
            "235/235 [==============================] - 7s 29ms/step - loss: 0.3443 - accuracy: 0.8777 - val_loss: 0.3748 - val_accuracy: 0.8721\n",
            "Epoch 12/20\n",
            "235/235 [==============================] - 10s 44ms/step - loss: 0.3424 - accuracy: 0.8782 - val_loss: 0.3660 - val_accuracy: 0.8779\n",
            "Epoch 13/20\n",
            "235/235 [==============================] - 7s 28ms/step - loss: 0.3374 - accuracy: 0.8787 - val_loss: 0.3597 - val_accuracy: 0.8737\n",
            "Epoch 14/20\n",
            "235/235 [==============================] - 7s 28ms/step - loss: 0.3348 - accuracy: 0.8817 - val_loss: 0.3438 - val_accuracy: 0.8796\n",
            "Epoch 15/20\n",
            "235/235 [==============================] - 6s 27ms/step - loss: 0.3286 - accuracy: 0.8837 - val_loss: 0.3653 - val_accuracy: 0.8758\n",
            "Epoch 16/20\n",
            "235/235 [==============================] - 7s 28ms/step - loss: 0.3279 - accuracy: 0.8834 - val_loss: 0.3593 - val_accuracy: 0.8778\n",
            "Epoch 17/20\n",
            "235/235 [==============================] - 7s 28ms/step - loss: 0.3247 - accuracy: 0.8827 - val_loss: 0.3787 - val_accuracy: 0.8654\n",
            "Epoch 18/20\n",
            "235/235 [==============================] - 6s 27ms/step - loss: 0.3203 - accuracy: 0.8869 - val_loss: 0.3552 - val_accuracy: 0.8797\n",
            "Epoch 19/20\n",
            "235/235 [==============================] - 6s 28ms/step - loss: 0.3209 - accuracy: 0.8874 - val_loss: 0.3674 - val_accuracy: 0.8770\n",
            "Epoch 20/20\n",
            "235/235 [==============================] - 7s 28ms/step - loss: 0.3185 - accuracy: 0.8879 - val_loss: 0.3891 - val_accuracy: 0.8778\n"
          ],
          "name": "stdout"
        }
      ]
    },
    {
      "cell_type": "code",
      "metadata": {
        "id": "Yvz_xQmYEGLQ",
        "colab_type": "code",
        "outputId": "5802a389-f1b4-4c5d-ff32-71b23a9ac6dd",
        "colab": {
          "base_uri": "https://localhost:8080/",
          "height": 51
        }
      },
      "source": [
        "test_reg_loss, test_reg_acc = model_reg.evaluate(test_data, test_labels_one_hot_encod)\n",
        "print('Evaluation result on test data Loss: {} and accuracy: {}'.format(test_reg_loss, test_reg_acc))"
      ],
      "execution_count": 0,
      "outputs": [
        {
          "output_type": "stream",
          "text": [
            "313/313 [==============================] - 1s 3ms/step - loss: 0.3952 - accuracy: 0.8778\n",
            "Evaluation result on test data Loss: 0.3952161371707916 and accuracy: 0.8777999877929688\n"
          ],
          "name": "stdout"
        }
      ]
    },
    {
      "cell_type": "code",
      "metadata": {
        "id": "TIfbvfAnEV6j",
        "colab_type": "code",
        "outputId": "33dc0055-152a-4427-9dcf-b5662a2df47b",
        "colab": {
          "base_uri": "https://localhost:8080/",
          "height": 805
        }
      },
      "source": [
        "## Plot the loss curves\n",
        "plt.figure(figsize=[8,6])\n",
        "plt.plot(history_reg.history['loss'],'r',linewidth=3.0)\n",
        "plt.plot(history_reg.history['val_loss'],'b',linewidth=3.0)\n",
        "plt.legend(['Training_loss', 'Validation_loss'],fontsize=14)\n",
        "plt.xlabel('Epochs',fontsize=16)\n",
        "plt.ylabel('Loss',fontsize=16)\n",
        "plt.title('Loss curves',fontsize = 16)\n",
        "\n",
        "## Plot the accuracy curves\n",
        "plt.figure(figsize=[8,6])\n",
        "plt.plot(history_reg.history['accuracy'],'r',linewidth=3.0)\n",
        "plt.plot(history_reg.history['val_accuracy'],'b',linewidth=3.0)\n",
        "plt.legend(['accuracy','val_accuracy'],fontsize=14)\n",
        "plt.xlabel('Epochs',fontsize=16)\n",
        "plt.ylabel('Accuracy',fontsize=16)\n",
        "plt.title('Accuracy curves',fontsize=16)\n",
        "\n",
        "plt.show()\n"
      ],
      "execution_count": 0,
      "outputs": [
        {
          "output_type": "display_data",
          "data": {
            "image/png": "[encoded data removed]",
            "text/plain": [
              "<Figure size 576x432 with 1 Axes>"
            ]
          },
          "metadata": {
            "tags": [],
            "needs_background": "light"
          }
        },
        {
          "output_type": "display_data",
          "data": {
            "image/png": "[encoded data removed]",
            "text/plain": [
              "<Figure size 576x432 with 1 Axes>"
            ]
          },
          "metadata": {
            "tags": [],
            "needs_background": "light"
          }
        }
      ]
    },
    {
      "cell_type": "markdown",
      "metadata": {
        "id": "26s62f3lEtEh",
        "colab_type": "text"
      },
      "source": [
        "### Inference on a single image"
      ]
    },
    {
      "cell_type": "code",
      "metadata": {
        "id": "7FSN5wJ6F2oj",
        "colab_type": "code",
        "outputId": "cbf14601-507f-461c-a947-5d6d22aceb1a",
        "colab": {
          "base_uri": "https://localhost:8080/",
          "height": 282
        }
      },
      "source": [
        "testimage = x_test[0,:,:]\n",
        "plt.imshow(testimage)"
      ],
      "execution_count": 0,
      "outputs": [
        {
          "output_type": "execute_result",
          "data": {
            "text/plain": [
              "<matplotlib.image.AxesImage at 0x7feb1c128080>"
            ]
          },
          "metadata": {
            "tags": []
          },
          "execution_count": 44
        },
        {
          "output_type": "display_data",
          "data": {
            "image/png": "[encoded data removed]",
            "text/plain": [
              "<Figure size 432x288 with 1 Axes>"
            ]
          },
          "metadata": {
            "tags": [],
            "needs_background": "light"
          }
        }
      ]
    },
    {
      "cell_type": "markdown",
      "metadata": {
        "id": "5C2DOrGnF-7i",
        "colab_type": "text"
      },
      "source": [
        "#### Getting the predicted class"
      ]
    },
    {
      "cell_type": "code",
      "metadata": {
        "id": "cJfvN4nDGX9X",
        "colab_type": "code",
        "outputId": "aab5229e-2530-4460-8234-ee5b8c0a0ae4",
        "colab": {
          "base_uri": "https://localhost:8080/",
          "height": 34
        }
      },
      "source": [
        "label = model_reg.predict_classes(test_data[[0],:])[0]\n",
        "print('Label: {}, item: {}'.format(label, labelmap[label]))"
      ],
      "execution_count": 0,
      "outputs": [
        {
          "output_type": "stream",
          "text": [
            "Label: 9, item: ankle_boot\n"
          ],
          "name": "stdout"
        }
      ]
    },
    {
      "cell_type": "code",
      "metadata": {
        "id": "NGRgSvQBGuqG",
        "colab_type": "code",
        "outputId": "68259ff4-d8f5-4db9-bca4-8e88bb05b5b6",
        "colab": {
          "base_uri": "https://localhost:8080/",
          "height": 34
        }
      },
      "source": [
        "## Predict the probability of each class\n",
        "prob = model_reg.predict(test_data[:,:])\n",
        "labelProb = prob[0][label]\n",
        "print('Probability : {:.3f}'.format(labelProb))"
      ],
      "execution_count": 0,
      "outputs": [
        {
          "output_type": "stream",
          "text": [
            "Probability : 0.952\n"
          ],
          "name": "stdout"
        }
      ]
    },
    {
      "cell_type": "code",
      "metadata": {
        "id": "nbTBs-UrHXff",
        "colab_type": "code",
        "outputId": "18388a91-fbf4-43dc-8aff-685d8867d2c7",
        "colab": {
          "base_uri": "https://localhost:8080/",
          "height": 34
        }
      },
      "source": [
        "y_train[3]\n"
      ],
      "execution_count": 0,
      "outputs": [
        {
          "output_type": "execute_result",
          "data": {
            "text/plain": [
              "3"
            ]
          },
          "metadata": {
            "tags": []
          },
          "execution_count": 80
        }
      ]
    },
    {
      "cell_type": "code",
      "metadata": {
        "id": "_27N6Ahlizgb",
        "colab_type": "code",
        "outputId": "273764cb-04aa-415d-a19f-ab97e95aa4fb",
        "colab": {
          "base_uri": "https://localhost:8080/",
          "height": 34
        }
      },
      "source": [
        "label_3 = model_reg.predict_classes(test_data[[3],:])[0]\n",
        "print('Label: {}, item: {}'.format(label_3, labelmap[label_3]))"
      ],
      "execution_count": 0,
      "outputs": [
        {
          "output_type": "stream",
          "text": [
            "Label: 1, item: trouser\n"
          ],
          "name": "stdout"
        }
      ]
    },
    {
      "cell_type": "code",
      "metadata": {
        "id": "u67uorduIsvR",
        "colab_type": "code",
        "outputId": "2fb5f8f4-668f-4d0b-9649-c280b7fe88b9",
        "colab": {
          "base_uri": "https://localhost:8080/",
          "height": 34
        }
      },
      "source": [
        "prob[0][3]\n",
        "print('Probability : {:.3f}'.format(prob[0][3]))"
      ],
      "execution_count": 0,
      "outputs": [
        {
          "output_type": "stream",
          "text": [
            "Probability : 0.000\n"
          ],
          "name": "stdout"
        }
      ]
    },
    {
      "cell_type": "code",
      "metadata": {
        "id": "pbvoglGJjM2_",
        "colab_type": "code",
        "outputId": "66449022-dd75-47c7-97c9-dcfe42cfc461",
        "colab": {
          "base_uri": "https://localhost:8080/",
          "height": 34
        }
      },
      "source": [
        "model_reg.predict_classes(test_data[[1],:])"
      ],
      "execution_count": 0,
      "outputs": [
        {
          "output_type": "execute_result",
          "data": {
            "text/plain": [
              "array([2])"
            ]
          },
          "metadata": {
            "tags": []
          },
          "execution_count": 85
        }
      ]
    }
  ]
}