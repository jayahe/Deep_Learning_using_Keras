{
  "nbformat": 4,
  "nbformat_minor": 0,
  "metadata": {
    "colab": {
      "name": "Classification_model_using_CNN_Keras.ipynb",
      "provenance": [],
      "collapsed_sections": [],
      "machine_shape": "hm",
      "authorship_tag": "ABX9TyNTSG/JCSk5HQjCjxU8zxGZ",
      "include_colab_link": true
    },
    "kernelspec": {
      "name": "python3",
      "display_name": "Python 3"
    }
  },
  "cells": [
    {
      "cell_type": "markdown",
      "metadata": {
        "id": "view-in-github",
        "colab_type": "text"
      },
      "source": [
        "<a href=\"https://colab.research.google.com/github/jayahe/Deep_Learning_using_Keras/blob/master/Classification_model_using_CNN_Keras.ipynb\" target=\"_parent\"><img src=\"https://colab.research.google.com/assets/colab-badge.svg\" alt=\"Open In Colab\"/></a>"
      ]
    },
    {
      "cell_type": "markdown",
      "metadata": {
        "id": "T7LIAtsHlSHO",
        "colab_type": "text"
      },
      "source": [
        "## Image processing \n",
        "### Classification model using CNN and Keras\n",
        "##### Dataset used is fashion MNSIT data"
      ]
    },
    {
      "cell_type": "code",
      "metadata": {
        "id": "x8fBOM2uliRc",
        "colab_type": "code",
        "colab": {}
      },
      "source": [
        "## Import libraries\n",
        "import numpy as np\n",
        "import matplotlib.pyplot as plt\n",
        "%matplotlib inline\n",
        "from tensorflow.keras.models import Sequential\n",
        "from tensorflow.keras.layers import Dense, Conv2D, MaxPooling2D ,Dropout, Flatten"
      ],
      "execution_count": 0,
      "outputs": []
    },
    {
      "cell_type": "code",
      "metadata": {
        "id": "EMapRCken4U0",
        "colab_type": "code",
        "colab": {}
      },
      "source": [
        "## Import data\n",
        "from tensorflow.keras.datasets import fashion_mnist\n",
        "\n",
        "(train_images,train_labels), (test_images,test_labels) = fashion_mnist.load_data()"
      ],
      "execution_count": 0,
      "outputs": []
    },
    {
      "cell_type": "code",
      "metadata": {
        "id": "LKLtdOvsoAUp",
        "colab_type": "code",
        "colab": {}
      },
      "source": [
        "labelMap = [\"T-shirt/top\",\"Trouser\",\"Pullover\",\"Dress\",\"Coat\",\"Sandal\",\"Shirt\",\"Sneaker\",\"Bag\",\"Ankle boot\"]"
      ],
      "execution_count": 0,
      "outputs": []
    },
    {
      "cell_type": "code",
      "metadata": {
        "id": "KwBnnykJogav",
        "colab_type": "code",
        "colab": {
          "base_uri": "https://localhost:8080/",
          "height": 85
        },
        "outputId": "c33758eb-515a-4af0-926b-0dfdac5519e5"
      },
      "source": [
        "print(train_images.shape)\n",
        "print(test_images.shape)\n",
        "print(train_labels.shape)\n",
        "print(test_labels.shape)"
      ],
      "execution_count": 4,
      "outputs": [
        {
          "output_type": "stream",
          "text": [
            "(60000, 28, 28)\n",
            "(10000, 28, 28)\n",
            "(60000,)\n",
            "(10000,)\n"
          ],
          "name": "stdout"
        }
      ]
    },
    {
      "cell_type": "code",
      "metadata": {
        "id": "zj4RH7jSo0Ha",
        "colab_type": "code",
        "colab": {
          "base_uri": "https://localhost:8080/",
          "height": 34
        },
        "outputId": "6f13817f-3612-4fd0-9c78-3694ce00b140"
      },
      "source": [
        "train_labels"
      ],
      "execution_count": 5,
      "outputs": [
        {
          "output_type": "execute_result",
          "data": {
            "text/plain": [
              "array([9, 0, 0, ..., 3, 0, 5], dtype=uint8)"
            ]
          },
          "metadata": {
            "tags": []
          },
          "execution_count": 5
        }
      ]
    },
    {
      "cell_type": "code",
      "metadata": {
        "id": "qaemhP4HpAUa",
        "colab_type": "code",
        "colab": {
          "base_uri": "https://localhost:8080/",
          "height": 1000
        },
        "outputId": "06ff9b0a-fc4d-4a5c-d5b0-a7f74c480782"
      },
      "source": [
        "print(train_images[1,:,:].shape)\n",
        "train_images[0,:,:]"
      ],
      "execution_count": 6,
      "outputs": [
        {
          "output_type": "stream",
          "text": [
            "(28, 28)\n"
          ],
          "name": "stdout"
        },
        {
          "output_type": "execute_result",
          "data": {
            "text/plain": [
              "array([[  0,   0,   0,   0,   0,   0,   0,   0,   0,   0,   0,   0,   0,\n",
              "          0,   0,   0,   0,   0,   0,   0,   0,   0,   0,   0,   0,   0,\n",
              "          0,   0],\n",
              "       [  0,   0,   0,   0,   0,   0,   0,   0,   0,   0,   0,   0,   0,\n",
              "          0,   0,   0,   0,   0,   0,   0,   0,   0,   0,   0,   0,   0,\n",
              "          0,   0],\n",
              "       [  0,   0,   0,   0,   0,   0,   0,   0,   0,   0,   0,   0,   0,\n",
              "          0,   0,   0,   0,   0,   0,   0,   0,   0,   0,   0,   0,   0,\n",
              "          0,   0],\n",
              "       [  0,   0,   0,   0,   0,   0,   0,   0,   0,   0,   0,   0,   1,\n",
              "          0,   0,  13,  73,   0,   0,   1,   4,   0,   0,   0,   0,   1,\n",
              "          1,   0],\n",
              "       [  0,   0,   0,   0,   0,   0,   0,   0,   0,   0,   0,   0,   3,\n",
              "          0,  36, 136, 127,  62,  54,   0,   0,   0,   1,   3,   4,   0,\n",
              "          0,   3],\n",
              "       [  0,   0,   0,   0,   0,   0,   0,   0,   0,   0,   0,   0,   6,\n",
              "          0, 102, 204, 176, 134, 144, 123,  23,   0,   0,   0,   0,  12,\n",
              "         10,   0],\n",
              "       [  0,   0,   0,   0,   0,   0,   0,   0,   0,   0,   0,   0,   0,\n",
              "          0, 155, 236, 207, 178, 107, 156, 161, 109,  64,  23,  77, 130,\n",
              "         72,  15],\n",
              "       [  0,   0,   0,   0,   0,   0,   0,   0,   0,   0,   0,   1,   0,\n",
              "         69, 207, 223, 218, 216, 216, 163, 127, 121, 122, 146, 141,  88,\n",
              "        172,  66],\n",
              "       [  0,   0,   0,   0,   0,   0,   0,   0,   0,   1,   1,   1,   0,\n",
              "        200, 232, 232, 233, 229, 223, 223, 215, 213, 164, 127, 123, 196,\n",
              "        229,   0],\n",
              "       [  0,   0,   0,   0,   0,   0,   0,   0,   0,   0,   0,   0,   0,\n",
              "        183, 225, 216, 223, 228, 235, 227, 224, 222, 224, 221, 223, 245,\n",
              "        173,   0],\n",
              "       [  0,   0,   0,   0,   0,   0,   0,   0,   0,   0,   0,   0,   0,\n",
              "        193, 228, 218, 213, 198, 180, 212, 210, 211, 213, 223, 220, 243,\n",
              "        202,   0],\n",
              "       [  0,   0,   0,   0,   0,   0,   0,   0,   0,   1,   3,   0,  12,\n",
              "        219, 220, 212, 218, 192, 169, 227, 208, 218, 224, 212, 226, 197,\n",
              "        209,  52],\n",
              "       [  0,   0,   0,   0,   0,   0,   0,   0,   0,   0,   6,   0,  99,\n",
              "        244, 222, 220, 218, 203, 198, 221, 215, 213, 222, 220, 245, 119,\n",
              "        167,  56],\n",
              "       [  0,   0,   0,   0,   0,   0,   0,   0,   0,   4,   0,   0,  55,\n",
              "        236, 228, 230, 228, 240, 232, 213, 218, 223, 234, 217, 217, 209,\n",
              "         92,   0],\n",
              "       [  0,   0,   1,   4,   6,   7,   2,   0,   0,   0,   0,   0, 237,\n",
              "        226, 217, 223, 222, 219, 222, 221, 216, 223, 229, 215, 218, 255,\n",
              "         77,   0],\n",
              "       [  0,   3,   0,   0,   0,   0,   0,   0,   0,  62, 145, 204, 228,\n",
              "        207, 213, 221, 218, 208, 211, 218, 224, 223, 219, 215, 224, 244,\n",
              "        159,   0],\n",
              "       [  0,   0,   0,   0,  18,  44,  82, 107, 189, 228, 220, 222, 217,\n",
              "        226, 200, 205, 211, 230, 224, 234, 176, 188, 250, 248, 233, 238,\n",
              "        215,   0],\n",
              "       [  0,  57, 187, 208, 224, 221, 224, 208, 204, 214, 208, 209, 200,\n",
              "        159, 245, 193, 206, 223, 255, 255, 221, 234, 221, 211, 220, 232,\n",
              "        246,   0],\n",
              "       [  3, 202, 228, 224, 221, 211, 211, 214, 205, 205, 205, 220, 240,\n",
              "         80, 150, 255, 229, 221, 188, 154, 191, 210, 204, 209, 222, 228,\n",
              "        225,   0],\n",
              "       [ 98, 233, 198, 210, 222, 229, 229, 234, 249, 220, 194, 215, 217,\n",
              "        241,  65,  73, 106, 117, 168, 219, 221, 215, 217, 223, 223, 224,\n",
              "        229,  29],\n",
              "       [ 75, 204, 212, 204, 193, 205, 211, 225, 216, 185, 197, 206, 198,\n",
              "        213, 240, 195, 227, 245, 239, 223, 218, 212, 209, 222, 220, 221,\n",
              "        230,  67],\n",
              "       [ 48, 203, 183, 194, 213, 197, 185, 190, 194, 192, 202, 214, 219,\n",
              "        221, 220, 236, 225, 216, 199, 206, 186, 181, 177, 172, 181, 205,\n",
              "        206, 115],\n",
              "       [  0, 122, 219, 193, 179, 171, 183, 196, 204, 210, 213, 207, 211,\n",
              "        210, 200, 196, 194, 191, 195, 191, 198, 192, 176, 156, 167, 177,\n",
              "        210,  92],\n",
              "       [  0,   0,  74, 189, 212, 191, 175, 172, 175, 181, 185, 188, 189,\n",
              "        188, 193, 198, 204, 209, 210, 210, 211, 188, 188, 194, 192, 216,\n",
              "        170,   0],\n",
              "       [  2,   0,   0,   0,  66, 200, 222, 237, 239, 242, 246, 243, 244,\n",
              "        221, 220, 193, 191, 179, 182, 182, 181, 176, 166, 168,  99,  58,\n",
              "          0,   0],\n",
              "       [  0,   0,   0,   0,   0,   0,   0,  40,  61,  44,  72,  41,  35,\n",
              "          0,   0,   0,   0,   0,   0,   0,   0,   0,   0,   0,   0,   0,\n",
              "          0,   0],\n",
              "       [  0,   0,   0,   0,   0,   0,   0,   0,   0,   0,   0,   0,   0,\n",
              "          0,   0,   0,   0,   0,   0,   0,   0,   0,   0,   0,   0,   0,\n",
              "          0,   0],\n",
              "       [  0,   0,   0,   0,   0,   0,   0,   0,   0,   0,   0,   0,   0,\n",
              "          0,   0,   0,   0,   0,   0,   0,   0,   0,   0,   0,   0,   0,\n",
              "          0,   0]], dtype=uint8)"
            ]
          },
          "metadata": {
            "tags": []
          },
          "execution_count": 6
        }
      ]
    },
    {
      "cell_type": "code",
      "metadata": {
        "id": "F72CSpo5q4jx",
        "colab_type": "code",
        "colab": {
          "base_uri": "https://localhost:8080/",
          "height": 34
        },
        "outputId": "2d15cdb9-6262-45e0-aa04-f324c835bdc7"
      },
      "source": [
        "train_images.shape[1:]"
      ],
      "execution_count": 7,
      "outputs": [
        {
          "output_type": "execute_result",
          "data": {
            "text/plain": [
              "(28, 28)"
            ]
          },
          "metadata": {
            "tags": []
          },
          "execution_count": 7
        }
      ]
    },
    {
      "cell_type": "code",
      "metadata": {
        "id": "QC7L1O0xsXdf",
        "colab_type": "code",
        "colab": {
          "base_uri": "https://localhost:8080/",
          "height": 386
        },
        "outputId": "0214df2f-cbf5-4433-b2e5-e7238dd90b4d"
      },
      "source": [
        "## Explore data\n",
        "print('Training data shape: ', train_images.shape)\n",
        "print('Test data shape: ', test_images.shape)\n",
        "\n",
        "classes = np.unique(train_labels)\n",
        "nClasses = len(classes)\n",
        "print('Total number of outputs: ', nClasses)\n",
        "print('Output classes: ', classes)\n",
        "\n",
        "plt.figure(figsize=[10,5])\n",
        "### Train data\n",
        "plt.subplot(121)\n",
        "plt.imshow(train_images[0,:,:])\n",
        "plt.title('Ground truth {}'.format(train_labels[0]))\n",
        "\n",
        "### Test data\n",
        "plt.subplot(122)\n",
        "plt.imshow(test_images[0,:,:])\n",
        "plt.title('Ground truth {}'.format(test_labels[0]))\n",
        "\n",
        "plt.show()"
      ],
      "execution_count": 8,
      "outputs": [
        {
          "output_type": "stream",
          "text": [
            "Training data shape:  (60000, 28, 28)\n",
            "Test data shape:  (10000, 28, 28)\n",
            "Total number of outputs:  10\n",
            "Output classes:  [0 1 2 3 4 5 6 7 8 9]\n"
          ],
          "name": "stdout"
        },
        {
          "output_type": "display_data",
          "data": {
            "image/png": "[encoded data removed]",
            "text/plain": [
              "<Figure size 720x360 with 2 Axes>"
            ]
          },
          "metadata": {
            "tags": [],
            "needs_background": "light"
          }
        }
      ]
    },
    {
      "cell_type": "code",
      "metadata": {
        "id": "A89-A-sRuNke",
        "colab_type": "code",
        "colab": {}
      },
      "source": [
        "## Preprocess data\n",
        "from tensorflow.keras.utils import to_categorical\n",
        "\n",
        "# find the shape of input images and create the variable input_shape\n",
        "nDims = 1\n",
        "nRows,nCols = train_images.shape[1:]\n",
        "train_data = train_images.reshape(train_images.shape[0],nRows,nCols,nDims)\n",
        "test_data = test_images.reshape(test_images.shape[0],nRows,nCols,nDims)\n",
        "input_shape = (nRows, nCols,nDims)\n",
        "\n",
        "train_data = train_data.astype('float32')\n",
        "test_data = test_data.astype('float32')\n",
        "\n",
        "# scale the data to lie between 0 and 1\n",
        "train_data /= 255\n",
        "test_data /= 255\n",
        "\n",
        "# convert labels in to one hot encoded data\n",
        "train_labels_one_hot = to_categorical(train_labels)\n",
        "test_labels_one_hot = to_categorical(test_labels)"
      ],
      "execution_count": 0,
      "outputs": []
    },
    {
      "cell_type": "code",
      "metadata": {
        "id": "Bosb_EXH5Ahk",
        "colab_type": "code",
        "colab": {
          "base_uri": "https://localhost:8080/",
          "height": 102
        },
        "outputId": "7de2e01a-82f5-448f-fe81-279ba0b8db89"
      },
      "source": [
        "# Display the change for category label using one-hot encoding\n",
        "print('Original label 0 : ', train_labels[0])\n",
        "print('After conversion to categorical ( one-hot ) : ', train_labels_one_hot[0])\n",
        "print('-'*20)\n",
        "print('Original label 0 : ', train_labels[5])\n",
        "print('After conversion to categorical ( one-hot ) : ', train_labels_one_hot[5])"
      ],
      "execution_count": 10,
      "outputs": [
        {
          "output_type": "stream",
          "text": [
            "Original label 0 :  9\n",
            "After conversion to categorical ( one-hot ) :  [0. 0. 0. 0. 0. 0. 0. 0. 0. 1.]\n",
            "--------------------\n",
            "Original label 0 :  2\n",
            "After conversion to categorical ( one-hot ) :  [0. 0. 1. 0. 0. 0. 0. 0. 0. 0.]\n"
          ],
          "name": "stdout"
        }
      ]
    },
    {
      "cell_type": "code",
      "metadata": {
        "id": "XOxnCI3b5CdJ",
        "colab_type": "code",
        "colab": {
          "base_uri": "https://localhost:8080/",
          "height": 34
        },
        "outputId": "548fc48a-8596-4548-949c-08d5c2500eb3"
      },
      "source": [
        "train_data.shape"
      ],
      "execution_count": 11,
      "outputs": [
        {
          "output_type": "execute_result",
          "data": {
            "text/plain": [
              "(60000, 28, 28, 1)"
            ]
          },
          "metadata": {
            "tags": []
          },
          "execution_count": 11
        }
      ]
    },
    {
      "cell_type": "markdown",
      "metadata": {
        "id": "sAWFg-jX9zKv",
        "colab_type": "text"
      },
      "source": [
        "### Define the model"
      ]
    },
    {
      "cell_type": "markdown",
      "metadata": {
        "id": "PBjj4NXc91ZD",
        "colab_type": "text"
      },
      "source": [
        "For implementing a CNN, we will stack up Convolutional Layers, followed by Max Pooling layers. We will also include Dropout to avoid overfitting.\n",
        "\n",
        "Finally, we will add a fully connected ( Dense ) layer followed by a softmax layer. Given below is the model structure.\n",
        "\n",
        "We use 6 convolutional layers and 1 fully-connected layer.\n",
        "\n",
        "- The first 2 convolutional layers have 32 filters / kernels with a window size of 3×3.\n",
        "- The remaining conv layers have 64 filters.\n",
        "- We also add a max pooling layer with window size 2×2 after each pair of conv layer.\n",
        "- We add a dropout layer with a dropout ratio of 0.25 after every pooling layer.\n",
        "- In the final line, we add the dense layer which performs the classification among 10 classes using a softmax layer.\n"
      ]
    },
    {
      "cell_type": "code",
      "metadata": {
        "id": "bnD9gkQS94In",
        "colab_type": "code",
        "colab": {}
      },
      "source": [
        "def createmodel():\n",
        "    model = Sequential()\n",
        "    # The first two layers with 32 filters of window size 3x3\n",
        "    model.add(Conv2D(32, (3, 3), padding='same', activation='relu', input_shape=input_shape))\n",
        "    model.add(Conv2D(32, (3, 3), activation='relu'))\n",
        "    model.add(MaxPooling2D(pool_size=(2, 2)))\n",
        "    model.add(Dropout(0.25))\n",
        "\n",
        "    model.add(Conv2D(64, (3, 3), padding='same', activation='relu'))\n",
        "    model.add(Conv2D(64, (3, 3), activation='relu'))\n",
        "    model.add(MaxPooling2D(pool_size=(2, 2)))\n",
        "    model.add(Dropout(0.25))\n",
        "\n",
        "    model.add(Conv2D(64, (3, 3), padding='same', activation='relu'))\n",
        "    model.add(Conv2D(64, (3, 3), activation='relu'))\n",
        "    model.add(MaxPooling2D(pool_size=(2, 2)))\n",
        "    model.add(Dropout(0.25))\n",
        "\n",
        "    model.add(Flatten())\n",
        "    model.add(Dense(512, activation='relu'))\n",
        "    model.add(Dropout(0.5))\n",
        "    model.add(Dense(nClasses, activation='softmax'))\n",
        "    \n",
        "    return model\n"
      ],
      "execution_count": 0,
      "outputs": []
    },
    {
      "cell_type": "markdown",
      "metadata": {
        "id": "Sg0lybU0By4v",
        "colab_type": "text"
      },
      "source": [
        "### Train the model"
      ]
    },
    {
      "cell_type": "markdown",
      "metadata": {
        "id": "C_M3hf9UB8Je",
        "colab_type": "text"
      },
      "source": [
        "We will employ the same Keras workflow that we learnt in the previous section. We create the model and use the compile and fit methods to train the network.\n",
        "\n",
        "If we check the model summary we can see the shapes of each layer.\n",
        "\n",
        "It shows that since we have used padding in the first layer, the output shape is same as the input ( 32×32 ). But the second conv layer shrinks by 2 pixels in both dimensions. Also, the output size after pooling layer decreases by half since we have used a stride of 2 and a window size of 2×2. The final droupout layer has an output of 2x2x64. This has to be converted to a single array. This is done by the flatten layer which converts the 3D array into a 1D array of size 2x2x64 = 256. The final layer has 10 nodes since there are 10 classes.\n",
        "\n",
        "Since it is a 10 class classification problem, we will use a categorical cross entropy loss and use RMSProp optimizer to train the network. We will run it for 20 epochs."
      ]
    },
    {
      "cell_type": "code",
      "metadata": {
        "id": "ncdVheEXCAbF",
        "colab_type": "code",
        "colab": {
          "base_uri": "https://localhost:8080/",
          "height": 697
        },
        "outputId": "dbc36d1a-b6f7-4d1f-a73e-2692228d6c84"
      },
      "source": [
        "model_1 = createmodel()\n",
        "\n",
        "batch_size = 256\n",
        "epochs = 20\n",
        "model_1.compile(optimizer='rmsprop',loss='categorical_crossentropy', metrics=['accuracy'])\n",
        "\n",
        "model_1.summary()"
      ],
      "execution_count": 13,
      "outputs": [
        {
          "output_type": "stream",
          "text": [
            "Model: \"sequential\"\n",
            "_________________________________________________________________\n",
            "Layer (type)                 Output Shape              Param #   \n",
            "=================================================================\n",
            "conv2d (Conv2D)              (None, 28, 28, 32)        320       \n",
            "_________________________________________________________________\n",
            "conv2d_1 (Conv2D)            (None, 26, 26, 32)        9248      \n",
            "_________________________________________________________________\n",
            "max_pooling2d (MaxPooling2D) (None, 13, 13, 32)        0         \n",
            "_________________________________________________________________\n",
            "dropout (Dropout)            (None, 13, 13, 32)        0         \n",
            "_________________________________________________________________\n",
            "conv2d_2 (Conv2D)            (None, 13, 13, 64)        18496     \n",
            "_________________________________________________________________\n",
            "conv2d_3 (Conv2D)            (None, 11, 11, 64)        36928     \n",
            "_________________________________________________________________\n",
            "max_pooling2d_1 (MaxPooling2 (None, 5, 5, 64)          0         \n",
            "_________________________________________________________________\n",
            "dropout_1 (Dropout)          (None, 5, 5, 64)          0         \n",
            "_________________________________________________________________\n",
            "conv2d_4 (Conv2D)            (None, 5, 5, 64)          36928     \n",
            "_________________________________________________________________\n",
            "conv2d_5 (Conv2D)            (None, 3, 3, 64)          36928     \n",
            "_________________________________________________________________\n",
            "max_pooling2d_2 (MaxPooling2 (None, 1, 1, 64)          0         \n",
            "_________________________________________________________________\n",
            "dropout_2 (Dropout)          (None, 1, 1, 64)          0         \n",
            "_________________________________________________________________\n",
            "flatten (Flatten)            (None, 64)                0         \n",
            "_________________________________________________________________\n",
            "dense (Dense)                (None, 512)               33280     \n",
            "_________________________________________________________________\n",
            "dropout_3 (Dropout)          (None, 512)               0         \n",
            "_________________________________________________________________\n",
            "dense_1 (Dense)              (None, 10)                5130      \n",
            "=================================================================\n",
            "Total params: 177,258\n",
            "Trainable params: 177,258\n",
            "Non-trainable params: 0\n",
            "_________________________________________________________________\n"
          ],
          "name": "stdout"
        }
      ]
    },
    {
      "cell_type": "code",
      "metadata": {
        "id": "FoxqHrzZCkg1",
        "colab_type": "code",
        "colab": {
          "base_uri": "https://localhost:8080/",
          "height": 697
        },
        "outputId": "c046bf34-cc7a-46b5-ea1c-a706157b839a"
      },
      "source": [
        "history = model_1.fit(train_data, train_labels_one_hot, batch_size=batch_size, epochs=epochs, verbose=1, \n",
        "                   validation_data=(test_data, test_labels_one_hot))\n",
        "# test_loss,test_accuracy = model_1.evaluate(test_data, test_labels_one_hot)"
      ],
      "execution_count": 14,
      "outputs": [
        {
          "output_type": "stream",
          "text": [
            "Epoch 1/20\n",
            "235/235 [==============================] - 98s 416ms/step - loss: 0.9189 - accuracy: 0.6503 - val_loss: 0.5550 - val_accuracy: 0.7904\n",
            "Epoch 2/20\n",
            "235/235 [==============================] - 97s 413ms/step - loss: 0.5112 - accuracy: 0.8097 - val_loss: 0.4382 - val_accuracy: 0.8341\n",
            "Epoch 3/20\n",
            "235/235 [==============================] - 97s 413ms/step - loss: 0.4090 - accuracy: 0.8501 - val_loss: 0.3483 - val_accuracy: 0.8733\n",
            "Epoch 4/20\n",
            "235/235 [==============================] - 97s 413ms/step - loss: 0.3512 - accuracy: 0.8709 - val_loss: 0.4390 - val_accuracy: 0.8433\n",
            "Epoch 5/20\n",
            "235/235 [==============================] - 96s 411ms/step - loss: 0.3175 - accuracy: 0.8860 - val_loss: 0.2966 - val_accuracy: 0.8947\n",
            "Epoch 6/20\n",
            "235/235 [==============================] - 97s 412ms/step - loss: 0.2914 - accuracy: 0.8941 - val_loss: 0.2803 - val_accuracy: 0.8948\n",
            "Epoch 7/20\n",
            "235/235 [==============================] - 97s 414ms/step - loss: 0.2751 - accuracy: 0.8996 - val_loss: 0.3064 - val_accuracy: 0.8826\n",
            "Epoch 8/20\n",
            "235/235 [==============================] - 97s 413ms/step - loss: 0.2629 - accuracy: 0.9045 - val_loss: 0.2728 - val_accuracy: 0.9009\n",
            "Epoch 9/20\n",
            "235/235 [==============================] - 98s 418ms/step - loss: 0.2480 - accuracy: 0.9099 - val_loss: 0.2678 - val_accuracy: 0.8999\n",
            "Epoch 10/20\n",
            "235/235 [==============================] - 97s 414ms/step - loss: 0.2384 - accuracy: 0.9139 - val_loss: 0.2419 - val_accuracy: 0.9113\n",
            "Epoch 11/20\n",
            "235/235 [==============================] - 97s 414ms/step - loss: 0.2310 - accuracy: 0.9168 - val_loss: 0.2424 - val_accuracy: 0.9146\n",
            "Epoch 12/20\n",
            "235/235 [==============================] - 99s 419ms/step - loss: 0.2249 - accuracy: 0.9190 - val_loss: 0.2450 - val_accuracy: 0.9132\n",
            "Epoch 13/20\n",
            "235/235 [==============================] - 97s 415ms/step - loss: 0.2222 - accuracy: 0.9198 - val_loss: 0.2300 - val_accuracy: 0.9204\n",
            "Epoch 14/20\n",
            "235/235 [==============================] - 98s 415ms/step - loss: 0.2132 - accuracy: 0.9233 - val_loss: 0.2228 - val_accuracy: 0.9205\n",
            "Epoch 15/20\n",
            "235/235 [==============================] - 98s 416ms/step - loss: 0.2080 - accuracy: 0.9249 - val_loss: 0.2325 - val_accuracy: 0.9169\n",
            "Epoch 16/20\n",
            "235/235 [==============================] - 97s 415ms/step - loss: 0.2001 - accuracy: 0.9273 - val_loss: 0.2263 - val_accuracy: 0.9210\n",
            "Epoch 17/20\n",
            "235/235 [==============================] - 98s 415ms/step - loss: 0.1986 - accuracy: 0.9287 - val_loss: 0.2150 - val_accuracy: 0.9224\n",
            "Epoch 18/20\n",
            "235/235 [==============================] - 97s 414ms/step - loss: 0.1903 - accuracy: 0.9308 - val_loss: 0.2146 - val_accuracy: 0.9256\n",
            "Epoch 19/20\n",
            "235/235 [==============================] - 98s 415ms/step - loss: 0.1894 - accuracy: 0.9307 - val_loss: 0.2110 - val_accuracy: 0.9242\n",
            "Epoch 20/20\n",
            "235/235 [==============================] - 97s 413ms/step - loss: 0.1887 - accuracy: 0.9311 - val_loss: 0.2251 - val_accuracy: 0.9226\n"
          ],
          "name": "stdout"
        }
      ]
    },
    {
      "cell_type": "markdown",
      "metadata": {
        "id": "43cSmOsKDS0g",
        "colab_type": "text"
      },
      "source": [
        "### Check the loss and accuracy curves"
      ]
    },
    {
      "cell_type": "markdown",
      "metadata": {
        "id": "VZnpj2PcLdev",
        "colab_type": "text"
      },
      "source": [
        "We use the history method while training to store the accuracy and loss values over the iterations. We plot the values to see how the network accuracy and loss changed while training."
      ]
    },
    {
      "cell_type": "code",
      "metadata": {
        "id": "AyJRiFz7Lh0L",
        "colab_type": "code",
        "colab": {
          "base_uri": "https://localhost:8080/",
          "height": 428
        },
        "outputId": "09e511ed-52c3-450c-cebd-c85838c7f7ed"
      },
      "source": [
        "plt.figure(figsize=[8,6])\n",
        "plt.plot(history.history['loss'],'r',linewidth=3.0)\n",
        "plt.plot(history.history['val_loss'],'b',linewidth=3.0)\n",
        "plt.legend(['Training loss', 'Validation Loss'],fontsize=14)\n",
        "plt.xlabel('Epochs ',fontsize=16)\n",
        "plt.ylabel('Loss',fontsize=16)\n",
        "plt.title('Loss Curves',fontsize=16)"
      ],
      "execution_count": 16,
      "outputs": [
        {
          "output_type": "execute_result",
          "data": {
            "text/plain": [
              "Text(0.5, 1.0, 'Loss Curves')"
            ]
          },
          "metadata": {
            "tags": []
          },
          "execution_count": 16
        },
        {
          "output_type": "display_data",
          "data": {
            "image/png": "[encoded data removed]",
            "text/plain": [
              "<Figure size 576x432 with 1 Axes>"
            ]
          },
          "metadata": {
            "tags": [],
            "needs_background": "light"
          }
        }
      ]
    },
    {
      "cell_type": "code",
      "metadata": {
        "id": "taL3iPUdLnAV",
        "colab_type": "code",
        "colab": {
          "base_uri": "https://localhost:8080/",
          "height": 428
        },
        "outputId": "426486ea-3b95-477d-e7ee-9782de4a3699"
      },
      "source": [
        "plt.figure(figsize=[8,6])\n",
        "plt.plot(history.history['accuracy'],'r',linewidth=3.0)\n",
        "plt.plot(history.history['val_accuracy'],'b',linewidth=3.0)\n",
        "plt.legend(['Training Accuracy', 'Validation Accuracy'],fontsize=14)\n",
        "plt.xlabel('Epochs ',fontsize=16)\n",
        "plt.ylabel('Accuracy',fontsize=16)\n",
        "plt.title('Accuracy Curves',fontsize=16)"
      ],
      "execution_count": 17,
      "outputs": [
        {
          "output_type": "execute_result",
          "data": {
            "text/plain": [
              "Text(0.5, 1.0, 'Accuracy Curves')"
            ]
          },
          "metadata": {
            "tags": []
          },
          "execution_count": 17
        },
        {
          "output_type": "display_data",
          "data": {
            "image/png": "[encoded data removed]",
            "text/plain": [
              "<Figure size 576x432 with 1 Axes>"
            ]
          },
          "metadata": {
            "tags": [],
            "needs_background": "light"
          }
        }
      ]
    },
    {
      "cell_type": "markdown",
      "metadata": {
        "id": "jo2rDkaxLt8q",
        "colab_type": "text"
      },
      "source": [
        "From the above curves, we can see that there is a considerable difference between the training and validation loss. This indicates that the network has tried to memorize the training data and thus, is able to get better accuracy on it. This is a sign of Overfitting. But we have already used Dropout in the network, then why is it still overfitting. We will see if we can further reduce overfitting using something else.\n",
        "\n"
      ]
    },
    {
      "cell_type": "markdown",
      "metadata": {
        "id": "282VegyPL7_y",
        "colab_type": "text"
      },
      "source": [
        "### Inference\n"
      ]
    },
    {
      "cell_type": "markdown",
      "metadata": {
        "id": "bPSUxjNHL_6V",
        "colab_type": "text"
      },
      "source": [
        "Now that the model has trained and we are getting a decent accuracy on the test set, we should check the results visually too.\n",
        "\n",
        "Let us check what output we got for the first test image."
      ]
    },
    {
      "cell_type": "code",
      "metadata": {
        "id": "DrSbIqAyO-qL",
        "colab_type": "code",
        "colab": {}
      },
      "source": [
        "import warnings\n",
        "warnings.filterwarnings('ignore')"
      ],
      "execution_count": 0,
      "outputs": []
    },
    {
      "cell_type": "code",
      "metadata": {
        "id": "BPzi36YeMBqU",
        "colab_type": "code",
        "colab": {
          "base_uri": "https://localhost:8080/",
          "height": 282
        },
        "outputId": "36c9b201-421d-4469-ba53-ab34b2eb5f17"
      },
      "source": [
        "testSample = test_data[0,:]\n",
        "plt.imshow(testSample.reshape(28,28));\n",
        "plt.show()\n",
        "\n",
        "# label = np.argmax(model_1.predict(testSample), axis=-1)\n",
        "label = model_1.predict_classes(testSample.reshape(1,28,28,nDims))[0]\n",
        "print(\"Label = {}, Item = {}\".format(label,labelMap[label]))"
      ],
      "execution_count": 23,
      "outputs": [
        {
          "output_type": "display_data",
          "data": {
            "image/png": "[encoded data removed]",
            "text/plain": [
              "<Figure size 432x288 with 1 Axes>"
            ]
          },
          "metadata": {
            "tags": [],
            "needs_background": "light"
          }
        },
        {
          "output_type": "stream",
          "text": [
            "Label = 9, Item = Ankle boot\n"
          ],
          "name": "stdout"
        }
      ]
    },
    {
      "cell_type": "code",
      "metadata": {
        "id": "YpEOZJvEMGTt",
        "colab_type": "code",
        "colab": {
          "base_uri": "https://localhost:8080/",
          "height": 282
        },
        "outputId": "89ebad64-3134-4410-fa8d-b289dc18005d"
      },
      "source": [
        "shiftUp = np.zeros(testSample.shape)\n",
        "shiftUp[1:20,:] = testSample[6:25,:]\n",
        "plt.imshow(shiftUp.reshape(28,28));\n",
        "plt.show()\n",
        "\n",
        "label = model_1.predict_classes(shiftUp.reshape(1,28,28,nDims))[0]\n",
        "print(\"Label = {}, Item = {}\".format(label,labelMap[label]))"
      ],
      "execution_count": 24,
      "outputs": [
        {
          "output_type": "display_data",
          "data": {
            "image/png": "[encoded data removed]",
            "text/plain": [
              "<Figure size 432x288 with 1 Axes>"
            ]
          },
          "metadata": {
            "tags": [],
            "needs_background": "light"
          }
        },
        {
          "output_type": "stream",
          "text": [
            "Label = 9, Item = Ankle boot\n"
          ],
          "name": "stdout"
        }
      ]
    },
    {
      "cell_type": "markdown",
      "metadata": {
        "id": "bWoFHNxrMVRy",
        "colab_type": "text"
      },
      "source": [
        "### Exercise "
      ]
    },
    {
      "cell_type": "markdown",
      "metadata": {
        "id": "RT0XYm2AMKH0",
        "colab_type": "text"
      },
      "source": [
        "\n",
        "1. Use the CIFAR10 dataset instead of Fashion MNIST and see what changes you need to make to the code\n",
        "2. Train it for extended periods and see what changes occur from the curves."
      ]
    },
    {
      "cell_type": "code",
      "metadata": {
        "id": "87Rf_P_hMUWb",
        "colab_type": "code",
        "colab": {}
      },
      "source": [
        ""
      ],
      "execution_count": 0,
      "outputs": []
    }
  ]
}